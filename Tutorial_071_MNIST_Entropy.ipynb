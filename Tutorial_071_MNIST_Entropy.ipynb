{
 "cells": [
  {
   "cell_type": "code",
   "execution_count": 26,
   "metadata": {
    "ExecuteTime": {
     "end_time": "2018-11-28T07:03:31.311806Z",
     "start_time": "2018-11-28T07:03:31.308762Z"
    }
   },
   "outputs": [],
   "source": [
    "import numpy as np\n",
    "import  matplotlib.pyplot as plt\n",
    "import sys\n",
    "epsilon = sys.float_info.epsilon"
   ]
  },
  {
   "cell_type": "markdown",
   "metadata": {
    "ExecuteTime": {
     "end_time": "2018-11-28T07:10:08.725735Z",
     "start_time": "2018-11-28T07:10:08.723112Z"
    }
   },
   "source": [
    "## Load Data set"
   ]
  },
  {
   "cell_type": "code",
   "execution_count": 27,
   "metadata": {
    "ExecuteTime": {
     "end_time": "2018-11-28T07:03:32.083648Z",
     "start_time": "2018-11-28T07:03:32.073607Z"
    }
   },
   "outputs": [],
   "source": [
    "MNIST = np.load('MNIST.npy')"
   ]
  },
  {
   "cell_type": "code",
   "execution_count": 62,
   "metadata": {
    "ExecuteTime": {
     "end_time": "2018-11-28T07:09:29.861181Z",
     "start_time": "2018-11-28T07:09:29.857617Z"
    }
   },
   "outputs": [],
   "source": [
    "# np.shape(MNIST)\n",
    "def plt_MNIST(vec):\n",
    "    dim = (28,28)\n",
    "    plt.imshow(np.reshape(vec,dim),cmap='gray')\n",
    "    plt.axis('off')"
   ]
  },
  {
   "cell_type": "code",
   "execution_count": 71,
   "metadata": {
    "ExecuteTime": {
     "end_time": "2018-11-28T07:11:56.668048Z",
     "start_time": "2018-11-28T07:11:56.664266Z"
    }
   },
   "outputs": [],
   "source": [
    "def binary_entropy(p): \n",
    "    # for binary values, entropy can be derived directly from the mean\n",
    "    ent = -(p*np.log2(p+epsilon)+(1-p)*np.log2(1-p+epsilon)) \n",
    "    ent[np.isnan(ent)]=0\n",
    "    return ent"
   ]
  },
  {
   "cell_type": "markdown",
   "metadata": {
    "ExecuteTime": {
     "end_time": "2018-11-28T07:09:57.391664Z",
     "start_time": "2018-11-28T07:09:57.388666Z"
    }
   },
   "source": [
    "## Plot some random digits\n",
    "NB: each digit is a 784 element binary vector that can be resized to its native 28x28 dimension image"
   ]
  },
  {
   "cell_type": "code",
   "execution_count": 68,
   "metadata": {
    "ExecuteTime": {
     "end_time": "2018-11-28T07:09:40.524519Z",
     "start_time": "2018-11-28T07:09:40.371324Z"
    }
   },
   "outputs": [
    {
     "data": {
      "image/png": "[encoded data removed]",
      "text/plain": [
       "<Figure size 720x144 with 5 Axes>"
      ]
     },
     "metadata": {
      "needs_background": "light"
     },
     "output_type": "display_data"
    }
   ],
   "source": [
    "n_row = 5\n",
    "plt.figure(figsize=(10,2))\n",
    "for i in range(n_row):\n",
    "    ind = np.random.randint(0,len(MNIST))\n",
    "    plt.subplot(1,n_row,i+1)\n",
    "    plt_MNIST(MNIST[ind,:])"
   ]
  },
  {
   "cell_type": "code",
   "execution_count": 65,
   "metadata": {
    "ExecuteTime": {
     "end_time": "2018-11-28T07:09:33.160215Z",
     "start_time": "2018-11-28T07:09:33.003916Z"
    }
   },
   "outputs": [
    {
     "data": {
      "image/png": "[encoded data removed]",
      "text/plain": [
       "<Figure size 720x360 with 4 Axes>"
      ]
     },
     "metadata": {
      "needs_background": "light"
     },
     "output_type": "display_data"
    }
   ],
   "source": [
    "mMNIST = np.mean(MNIST,axis=0)\n",
    "plt.figure(figsize=(10,5))\n",
    "plt.subplot(1,2,1)\n",
    "plt.title('Avg Value')\n",
    "plt_MNIST(mMNIST)\n",
    "plt.colorbar()\n",
    "plt.subplot(1,2,2)\n",
    "plt.title('Entropy')\n",
    "plt_MNIST(binary_entropy(mMNIST))\n",
    "plt.colorbar()\n",
    "plt.show()"
   ]
  },
  {
   "cell_type": "markdown",
   "metadata": {},
   "source": [
    "## Notice how the values towards the middle are the most predictive"
   ]
  },
  {
   "cell_type": "code",
   "execution_count": null,
   "metadata": {},
   "outputs": [],
   "source": []
  }
 ],
 "metadata": {
  "kernelspec": {
   "display_name": "Python 3",
   "language": "python",
   "name": "python3"
  },
  "language_info": {
   "codemirror_mode": {
    "name": "ipython",
    "version": 3
   },
   "file_extension": ".py",
   "mimetype": "text/x-python",
   "name": "python",
   "nbconvert_exporter": "python",
   "pygments_lexer": "ipython3",
   "version": "3.6.6"
  }
 },
 "nbformat": 4,
 "nbformat_minor": 2
}
